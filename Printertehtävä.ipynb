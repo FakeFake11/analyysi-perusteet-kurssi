{
 "cells": [
  {
   "cell_type": "code",
   "execution_count": 38,
   "metadata": {},
   "outputs": [
    {
     "name": "stdout",
     "output_type": "stream",
     "text": [
      "Printer App\n",
      "This app is made by Farhad\n",
      "The value of number1 is 99\n",
      "The value of number2 is 5\n",
      "99 + 5 = 104\n"
     ]
    }
   ],
   "source": [
    "print(\"Printer App\")\n",
    "print(\"This app is made by\",creator)\n",
    "creator = \"Farhad\"\n",
    "\n",
    "number1 = 99\n",
    "number2 = 5\n",
    "\n",
    "# print(number1)\n",
    "print(\"The value of number1 is\",number1)\n",
    "print(\"The value of number2 is\",number2)\n",
    "\n",
    "addition = number1 + number2 \n",
    "print(f\"{number1} + {number2} = {addition}\")\n",
    "\n",
    "\n",
    "# division = float (number1) / number2 \n",
    "# print(f\"{number1} / {number2} = {division}\")\n",
    "\n",
    "\n"
   ]
  }
 ],
 "metadata": {
  "kernelspec": {
   "display_name": "Python 3",
   "language": "python",
   "name": "python3"
  },
  "language_info": {
   "codemirror_mode": {
    "name": "ipython",
    "version": 3
   },
   "file_extension": ".py",
   "mimetype": "text/x-python",
   "name": "python",
   "nbconvert_exporter": "python",
   "pygments_lexer": "ipython3",
   "version": "3.13.0"
  }
 },
 "nbformat": 4,
 "nbformat_minor": 2
}
