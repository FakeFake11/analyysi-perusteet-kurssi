{
 "cells": [
  {
   "cell_type": "code",
   "execution_count": null,
   "metadata": {},
   "outputs": [
    {
     "name": "stdout",
     "output_type": "stream",
     "text": [
      "Numbers are not equal\n",
      "Number1 in greater than number2\n",
      "Number1 is greater or equal to number2\n",
      "Number1 is NOT equal to number2\n"
     ]
    }
   ],
   "source": [
    "# If 1 tehtävä\n",
    "\n",
    "number1 = 8\n",
    "number2 = 5\n",
    "\n",
    "# A tehtävä\n",
    "if number1 == number2:\n",
    "    print(\"Numbers are equal\")\n",
    "else: \n",
    "    print(\"Numbers are not equal\")\n",
    "\n",
    "# B tehtävä\n",
    "if number1 > number2:\n",
    "    print(\"Number1 in greater than number2\")\n",
    "else:\n",
    "    print(\"Number1 is not greater than number 2\")\n",
    "\n",
    "# C tehtävä\n",
    "if number1 >= number2:\n",
    "    print(\"Number1 is greater or equal to number2\")\n",
    "else:\n",
    "    print(\"Number1 is not greater or equal to number2\")\n",
    "\n",
    "# D tehtävä\n",
    "if number1 != number2:\n",
    "    print(\"Number1 is NOT equal to number2\")\n",
    "else:\n",
    "    print(\"Number1 is equal to number2\")\n",
    "\n",
    "\n",
    "\n",
    "\n",
    "\n",
    "\n"
   ]
  },
  {
   "cell_type": "code",
   "execution_count": 30,
   "metadata": {},
   "outputs": [
    {
     "name": "stdout",
     "output_type": "stream",
     "text": [
      "All number are not equal\n",
      "Neither number1 and number 2 are equal, nor number2 and number3 are equal\n",
      "Number1 is not greater than number2 and number3\n",
      "Number1 is greater than number2\n",
      "Number1 and number3 are equal\n"
     ]
    }
   ],
   "source": [
    "# If 2 tehtävä\n",
    "number1 = 11\n",
    "number2 = 5\n",
    "number3 = 11\n",
    "\n",
    "# A tehtävä\n",
    "if number1 == number2 & number1 == number3 & number2 == number3:\n",
    "    print(\"All numbers are equal\")\n",
    "else:\n",
    "    print(\"All number are not equal\")   \n",
    "\n",
    "# B tehtävä\n",
    "if number1 == number2 or number2 == number3:\n",
    "    print(\"Either number1 and number 2 are equal, or number2 and number3 are equal\")\n",
    "else:\n",
    "    print(\"Neither number1 and number 2 are equal, nor number2 and number3 are equal\")\n",
    "\n",
    "# C tehtävä\n",
    "if number1 > number2 and number1 > number3:\n",
    "    print(\"Number 1 is greater than number 2 and number 3\")\n",
    "else:\n",
    "    print(\"Number1 is not greater than number2 and number3\")   \n",
    "\n",
    "# D tehtävä\n",
    "if number1 > number2:\n",
    "    print(\"Number1 is greater than number2\")\n",
    "elif number2 > number3:\n",
    "    print(\"Number2 is greater than number3\")\n",
    "else:\n",
    "    print(\"Neither is true\")\n",
    "\n",
    "# E tehtävä\n",
    "if number1 == number2:\n",
    "    print(\"Number 1 and number2 are equal\")\n",
    "elif number1 == number3:\n",
    "    print(\"Number1 and number3 are equal\")\n",
    "else:\n",
    "    print(\"Neither is equal\")\n",
    "\n",
    "\n",
    "\n",
    "\n",
    "\n",
    "\n"
   ]
  },
  {
   "cell_type": "code",
   "execution_count": 39,
   "metadata": {},
   "outputs": [
    {
     "name": "stdout",
     "output_type": "stream",
     "text": [
      "Name1 and name2 are equal\n",
      "Name1 and name2 are equal\n",
      "Name1 and name2 are equal\n"
     ]
    }
   ],
   "source": [
    "# If 2 jatko tehtävä\n",
    "\n",
    "name1 = \"Tosti\"\n",
    "name2 = \"Tosti\"\n",
    "name3 = \"Tosti\"\n",
    "\n",
    "# A tehtävä\n",
    "if name1 == name2:\n",
    "    print(\"Name1 and name2 are equal\")\n",
    "else:\n",
    "    print(\"Name1 and name2 are not equal\")\n",
    "\n",
    "# B tehtävä\n",
    "if name1 != name2:\n",
    "    print(\"Name1 and name2 are not equal\")\n",
    "else:\n",
    "    print(\"Name1 and name2 are equal\")\n",
    "\n",
    "# C Tehtävä\n",
    "if name1 == name2:\n",
    "    print(\"Name1 and name2 are equal\")\n",
    "elif name1 == name3:\n",
    "    print(\"name1 and name3 are equal\")\n",
    "else:\n",
    "    print(\"Neither is equal\")\n"
   ]
  },
  {
   "cell_type": "markdown",
   "metadata": {},
   "source": []
  }
 ],
 "metadata": {
  "kernelspec": {
   "display_name": "Python 3",
   "language": "python",
   "name": "python3"
  },
  "language_info": {
   "codemirror_mode": {
    "name": "ipython",
    "version": 3
   },
   "file_extension": ".py",
   "mimetype": "text/x-python",
   "name": "python",
   "nbconvert_exporter": "python",
   "pygments_lexer": "ipython3",
   "version": "3.13.0"
  }
 },
 "nbformat": 4,
 "nbformat_minor": 2
}
