{
 "cells": [
  {
   "cell_type": "code",
   "execution_count": 45,
   "metadata": {},
   "outputs": [
    {
     "name": "stdout",
     "output_type": "stream",
     "text": [
      "\n"
     ]
    }
   ],
   "source": [
    "# Exercise 1\n",
    "\n",
    "furniture  =[\"sofa\", \"chair\", \"table\", \"shelf\"]\n",
    "# print(furniture)\n",
    "# print(furniture[:2])\n",
    "print()\n"
   ]
  },
  {
   "cell_type": "code",
   "execution_count": 56,
   "metadata": {},
   "outputs": [
    {
     "name": "stdout",
     "output_type": "stream",
     "text": [
      "Thrown Dice Numbers: [1, 3, 1, 3, 1]\n"
     ]
    },
    {
     "ename": "TypeError",
     "evalue": "'int' object is not callable",
     "output_type": "error",
     "traceback": [
      "\u001b[1;31m---------------------------------------------------------------------------\u001b[0m",
      "\u001b[1;31mTypeError\u001b[0m                                 Traceback (most recent call last)",
      "Cell \u001b[1;32mIn[56], line 9\u001b[0m\n\u001b[0;32m      5\u001b[0m     ThrownDiceNumbers\u001b[38;5;241m.\u001b[39mappend(random\u001b[38;5;241m.\u001b[39mrandint(\u001b[38;5;241m1\u001b[39m, \u001b[38;5;241m6\u001b[39m))\n\u001b[0;32m      7\u001b[0m \u001b[38;5;28mprint\u001b[39m(\u001b[38;5;124m\"\u001b[39m\u001b[38;5;124mThrown Dice Numbers:\u001b[39m\u001b[38;5;124m\"\u001b[39m, ThrownDiceNumbers)\n\u001b[1;32m----> 9\u001b[0m my_sum \u001b[38;5;241m=\u001b[39m \u001b[38;5;28;43msum\u001b[39;49m\u001b[43m(\u001b[49m\u001b[43mThrownDiceNumbers\u001b[49m\u001b[43m)\u001b[49m \n\u001b[0;32m     10\u001b[0m \u001b[38;5;28mprint\u001b[39m(\u001b[38;5;124m\"\u001b[39m\u001b[38;5;124mSum of numbers:\u001b[39m\u001b[38;5;124m\"\u001b[39m, my_sum)\n\u001b[0;32m     12\u001b[0m highest_value \u001b[38;5;241m=\u001b[39m \u001b[38;5;28mmax\u001b[39m(ThrownDiceNumbers)\n",
      "\u001b[1;31mTypeError\u001b[0m: 'int' object is not callable"
     ]
    }
   ],
   "source": [
    "import random\n",
    "\n",
    "ThrownDiceNumbers = []\n",
    "for _ in range(5):\n",
    "    ThrownDiceNumbers.append(random.randint(1, 6))\n",
    "\n",
    "print(\"Thrown Dice Numbers:\", ThrownDiceNumbers)\n",
    "\n",
    "my_sum = sum(ThrownDiceNumbers) \n",
    "print(\"Sum of numbers:\", my_sum)\n",
    "\n",
    "highest_value = max(ThrownDiceNumbers)\n",
    "print(\"Highest value:\", highest_value)\n"
   ]
  }
 ],
 "metadata": {
  "kernelspec": {
   "display_name": "Python 3",
   "language": "python",
   "name": "python3"
  },
  "language_info": {
   "codemirror_mode": {
    "name": "ipython",
    "version": 3
   },
   "file_extension": ".py",
   "mimetype": "text/x-python",
   "name": "python",
   "nbconvert_exporter": "python",
   "pygments_lexer": "ipython3",
   "version": "3.13.0"
  }
 },
 "nbformat": 4,
 "nbformat_minor": 2
}
