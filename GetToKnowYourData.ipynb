{
 "cells": [
  {
   "cell_type": "code",
   "execution_count": 2,
   "metadata": {},
   "outputs": [
    {
     "name": "stdout",
     "output_type": "stream",
     "text": [
      "Warning: Looks like you're using an outdated `kagglehub` version, please consider updating (latest version: 0.3.5)\n",
      "Path to dataset files: C:\\Users\\rfarh\\.cache\\kagglehub\\datasets\\shreyasur965\\democracy-index\\versions\\2\n",
      "Path to dataset files: C:\\Users\\rfarh\\.cache\\kagglehub\\datasets\\shreyasur965\\democracy-index\\versions\\2\n",
      "Data types of each column:\n",
      "Entity              object\n",
      "Code                object\n",
      "Year                 int64\n",
      "Democracy score    float64\n",
      "dtype: object\n",
      "Missing values per column:\n",
      "Entity             0\n",
      "Code               0\n",
      "Year               0\n",
      "Democracy score    0\n",
      "dtype: int64\n"
     ]
    }
   ],
   "source": [
    "import pandas as pd\n",
    "import kagglehub\n",
    "from pathlib import Path\n",
    "import os\n",
    "\n",
    "\n",
    "path = kagglehub.dataset_download(\"shreyasur965/democracy-index\")\n",
    "print(\"Path to dataset files:\", path)\n",
    " \n",
    "dataset_path = Path(path)\n",
    "print(\"Path to dataset files:\", dataset_path)\n",
    "\n",
    "#List the contents of the directory where the dataset is saved\n",
    "dataset_files = os.listdir(path)\n",
    "\n",
    "#Check if there are any files to load\n",
    "if dataset_files:\n",
    "    # Assuming the dataset is a CSV file and we are using the first file in the list\n",
    "    csv_path = os.path.join(path, dataset_files[0])  # Replace with a specific file if necessary\n",
    "    data = pd.read_csv(csv_path)\n",
    "\n",
    "    # Print the data types of each column\n",
    "    print(\"Data types of each column:\")\n",
    "    print(data.dtypes)\n",
    "\n",
    "    # Drop rows where 'Code' is NaN\n",
    "    data = data.dropna(subset=['Code'])\n",
    "\n",
    "    # Print the number of missing values per column\n",
    "    missing_count = data.isnull().sum()\n",
    "    print(\"Missing values per column:\")\n",
    "    print(missing_count)\n",
    "    \n",
    "    # You should see that 'Code' now has 0 missing values after dropping rows with NaN in 'Code'\n",
    "\n",
    "else:\n",
    "    print(\"No files found in the dataset directory.\")\n",
    "\n"
   ]
  }
 ],
 "metadata": {
  "kernelspec": {
   "display_name": "Python 3",
   "language": "python",
   "name": "python3"
  },
  "language_info": {
   "codemirror_mode": {
    "name": "ipython",
    "version": 3
   },
   "file_extension": ".py",
   "mimetype": "text/x-python",
   "name": "python",
   "nbconvert_exporter": "python",
   "pygments_lexer": "ipython3",
   "version": "3.13.0"
  }
 },
 "nbformat": 4,
 "nbformat_minor": 2
}
